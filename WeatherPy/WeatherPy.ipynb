{
 "cells": [
  {
   "cell_type": "markdown",
   "metadata": {},
   "source": [
    "# WeatherPy\n",
    "----\n",
    "\n",
    "#### Note\n",
    "* Instructions have been included for each segment. You do not have to follow them exactly, but they are included to help you think through the steps."
   ]
  },
  {
   "cell_type": "code",
   "execution_count": 2,
   "metadata": {
    "scrolled": true
   },
   "outputs": [],
   "source": [
    "# Dependencies and Setup\n",
    "import matplotlib.pyplot as plt\n",
    "import pandas as pd\n",
    "import numpy as np\n",
    "import requests\n",
    "import time\n",
    "#from scipy.stats import linregress\n",
    "from scipy import stats\n",
    "import os\n",
    "import sys\n",
    "import csv\n",
    "from datetime import datetime\n",
    "\n",
    "# Used to navigate to project root for api_keys\n",
    "module_path = os.path.abspath(os.path.join('..'))\n",
    "if module_path not in sys.path:\n",
    "    sys.path.append(module_path)\n",
    "\n",
    "# Import API key\n",
    "from api_keys import weather_api_key\n",
    "\n",
    "# Incorporated citipy to determine city based on latitude and longitude\n",
    "from citipy import citipy\n",
    "\n",
    "# Output File (CSV)\n",
    "output_data_file = \"./output_data/cities.csv\"\n",
    "\n",
    "# Range of latitudes and longitudes\n",
    "lat_range = (-90, 90)\n",
    "lng_range = (-180, 180)"
   ]
  },
  {
   "cell_type": "markdown",
   "metadata": {},
   "source": [
    "## Generate Cities List"
   ]
  },
  {
   "cell_type": "code",
   "execution_count": null,
   "metadata": {
    "scrolled": true
   },
   "outputs": [],
   "source": [
    "# List to holding lat_lngs and cities\n",
    "lat_lngs = []\n",
    "cities = []\n",
    "\n",
    "# Create a set of random lat and lng combinations\n",
    "lats = np.random.uniform(low=-90.000, high=90.000, size=1500)\n",
    "lngs = np.random.uniform(low=-180.000, high=180.000, size=1500)\n",
    "lat_lngs = zip(lats, lngs)\n",
    "\n",
    "# Identify nearest city for each lat, lng combination\n",
    "for lat_lng in lat_lngs:\n",
    "    city = citipy.nearest_city(lat_lng[0], lat_lng[1]).city_name\n",
    "    \n",
    "    # If the city is unique, then add it to a our cities list\n",
    "    if city not in cities:\n",
    "        cities.append(city)\n",
    "\n",
    "# Print the city count to confirm sufficient count\n",
    "len(cities)"
   ]
  },
  {
   "cell_type": "markdown",
   "metadata": {},
   "source": [
    "### Perform API Calls\n",
    "* Perform a weather check on each city using a series of successive API calls.\n",
    "* Include a print log of each city as it'sbeing processed (with the city number and city name).\n"
   ]
  },
  {
   "cell_type": "code",
   "execution_count": null,
   "metadata": {},
   "outputs": [],
   "source": [
    "# Save query information.\n",
    "url = \"http://api.openweathermap.org/data/2.5/weather?\"\n",
    "units = \"metric\"\n",
    "\n",
    "# Add weather detail columns\n",
    "city_name = []\n",
    "city_id = []\n",
    "lat = []\n",
    "lon = []\n",
    "unix_dt = []\n",
    "temp_max = []\n",
    "humidity = []\n",
    "cloudiness = []\n",
    "windspeed = []\n",
    "\n",
    "for city in cities:\n",
    "    try:\n",
    "        # Build query URL and request your results in Celsius\n",
    "        query_url = f\"{url}appid={weather_api_key}&q={city}&units={units}\"\n",
    "        \n",
    "        # Get weather data\n",
    "        weather_response = requests.get(query_url).json()\n",
    "        \n",
    "        print(f\"City Name:  {city}, City Number:  {weather_response['id']}\")\n",
    "        \n",
    "        # cityID, cityName, lat, lon, unix_dt, temp, humidity, cloudiness, windSpeed\n",
    "        city_id.append(weather_response['id'])\n",
    "        city_name.append(weather_response['name'])\n",
    "        lat.append(weather_response['coord']['lat'])\n",
    "        lon.append(weather_response['coord']['lon'])\n",
    "        unix_dt.append(weather_response['dt'])\n",
    "        temp_max.append(weather_response['main']['temp_max'])\n",
    "        humidity.append(weather_response['main']['humidity'])\n",
    "        cloudiness.append(weather_response['clouds']['all'])\n",
    "        windspeed.append(weather_response['wind']['speed'])\n",
    "        \n",
    "    except:\n",
    "        print(\"City not found\")\n",
    "        pass"
   ]
  },
  {
   "cell_type": "code",
   "execution_count": null,
   "metadata": {
    "scrolled": true
   },
   "outputs": [],
   "source": [
    "# Print the city count to confirm sufficient dataset (500+)\n",
    "len(city_name)"
   ]
  },
  {
   "cell_type": "markdown",
   "metadata": {},
   "source": [
    "### Convert Raw Data to DataFrame\n",
    "* Export the city data into a .csv.\n",
    "* Display the DataFrame"
   ]
  },
  {
   "cell_type": "code",
   "execution_count": null,
   "metadata": {},
   "outputs": [],
   "source": [
    "#Save data tp dataframe\n",
    "city_weather_data = pd.DataFrame({\n",
    "    'city_name':city_name,\n",
    "    'city_id':city_id,\n",
    "    'lat':lat,\n",
    "    'lon':lon,\n",
    "    'unix_dt':unix_dt,\n",
    "    'temp_max_c':temp_max,\n",
    "    'temp_max_f':list(map(lambda x: ((x * (9/5)) + 32), temp_max)),\n",
    "    'humidity':humidity,\n",
    "    'cloudiness':cloudiness,\n",
    "    'windspeed':windspeed\n",
    "})\n",
    "\n",
    "# write dataframe to the csv\n",
    "city_weather_data.to_csv(output_data_file, sep=',', encoding='utf-8', index=False)\n",
    "\n",
    "# Display dataframe\n",
    "city_weather_data"
   ]
  },
  {
   "cell_type": "markdown",
   "metadata": {},
   "source": [
    "### Plotting the Data\n",
    "* Use proper labeling of the plots using plot titles (including date of analysis) and axes labels.\n",
    "* Save the plotted figures as .pngs."
   ]
  },
  {
   "cell_type": "code",
   "execution_count": 28,
   "metadata": {},
   "outputs": [
    {
     "data": {
      "text/html": [
       "<div>\n",
       "<style scoped>\n",
       "    .dataframe tbody tr th:only-of-type {\n",
       "        vertical-align: middle;\n",
       "    }\n",
       "\n",
       "    .dataframe tbody tr th {\n",
       "        vertical-align: top;\n",
       "    }\n",
       "\n",
       "    .dataframe thead th {\n",
       "        text-align: right;\n",
       "    }\n",
       "</style>\n",
       "<table border=\"1\" class=\"dataframe\">\n",
       "  <thead>\n",
       "    <tr style=\"text-align: right;\">\n",
       "      <th></th>\n",
       "      <th>city_name</th>\n",
       "      <th>city_id</th>\n",
       "      <th>lat</th>\n",
       "      <th>lon</th>\n",
       "      <th>unix_dt</th>\n",
       "      <th>temp_max_c</th>\n",
       "      <th>temp_max_f</th>\n",
       "      <th>humidity</th>\n",
       "      <th>cloudiness</th>\n",
       "      <th>windspeed</th>\n",
       "    </tr>\n",
       "  </thead>\n",
       "  <tbody>\n",
       "    <tr>\n",
       "      <td>0</td>\n",
       "      <td>Punta Arenas</td>\n",
       "      <td>3874787</td>\n",
       "      <td>-53.15</td>\n",
       "      <td>-70.92</td>\n",
       "      <td>1579899124</td>\n",
       "      <td>9.0</td>\n",
       "      <td>48.2</td>\n",
       "      <td>87</td>\n",
       "      <td>90</td>\n",
       "      <td>2.1</td>\n",
       "    </tr>\n",
       "    <tr>\n",
       "      <td>1</td>\n",
       "      <td>Avarua</td>\n",
       "      <td>4035715</td>\n",
       "      <td>-21.21</td>\n",
       "      <td>-159.78</td>\n",
       "      <td>1579899186</td>\n",
       "      <td>28.0</td>\n",
       "      <td>82.4</td>\n",
       "      <td>83</td>\n",
       "      <td>90</td>\n",
       "      <td>3.6</td>\n",
       "    </tr>\n",
       "    <tr>\n",
       "      <td>2</td>\n",
       "      <td>Bainbridge Island</td>\n",
       "      <td>5816320</td>\n",
       "      <td>47.63</td>\n",
       "      <td>-122.52</td>\n",
       "      <td>1579899187</td>\n",
       "      <td>12.0</td>\n",
       "      <td>53.6</td>\n",
       "      <td>81</td>\n",
       "      <td>90</td>\n",
       "      <td>5.1</td>\n",
       "    </tr>\n",
       "    <tr>\n",
       "      <td>3</td>\n",
       "      <td>Puerto Ayora</td>\n",
       "      <td>3652764</td>\n",
       "      <td>-0.74</td>\n",
       "      <td>-90.35</td>\n",
       "      <td>1579899187</td>\n",
       "      <td>30.0</td>\n",
       "      <td>86.0</td>\n",
       "      <td>58</td>\n",
       "      <td>20</td>\n",
       "      <td>8.7</td>\n",
       "    </tr>\n",
       "    <tr>\n",
       "      <td>4</td>\n",
       "      <td>Vaini</td>\n",
       "      <td>4032243</td>\n",
       "      <td>-21.20</td>\n",
       "      <td>-175.20</td>\n",
       "      <td>1579899187</td>\n",
       "      <td>27.0</td>\n",
       "      <td>80.6</td>\n",
       "      <td>78</td>\n",
       "      <td>20</td>\n",
       "      <td>5.1</td>\n",
       "    </tr>\n",
       "  </tbody>\n",
       "</table>\n",
       "</div>"
      ],
      "text/plain": [
       "           city_name  city_id    lat     lon     unix_dt  temp_max_c  \\\n",
       "0       Punta Arenas  3874787 -53.15  -70.92  1579899124         9.0   \n",
       "1             Avarua  4035715 -21.21 -159.78  1579899186        28.0   \n",
       "2  Bainbridge Island  5816320  47.63 -122.52  1579899187        12.0   \n",
       "3       Puerto Ayora  3652764  -0.74  -90.35  1579899187        30.0   \n",
       "4              Vaini  4032243 -21.20 -175.20  1579899187        27.0   \n",
       "\n",
       "   temp_max_f  humidity  cloudiness  windspeed  \n",
       "0        48.2        87          90        2.1  \n",
       "1        82.4        83          90        3.6  \n",
       "2        53.6        81          90        5.1  \n",
       "3        86.0        58          20        8.7  \n",
       "4        80.6        78          20        5.1  "
      ]
     },
     "execution_count": 28,
     "metadata": {},
     "output_type": "execute_result"
    }
   ],
   "source": [
    "# Load in csv file for test purposes\n",
    "city_weather_data_csv = './output_data/cities.csv'\n",
    "\n",
    "\n",
    "# Read and display the CSV with Pandas\n",
    "city_weather_data = pd.read_csv(city_weather_data_csv)\n",
    "city_weather_data.head()"
   ]
  },
  {
   "cell_type": "code",
   "execution_count": 19,
   "metadata": {},
   "outputs": [],
   "source": [
    "# Create a 'plotMyData' function to draw a scatter plot and save the image to the './output' directory\n",
    "def plotMyData(x_values, y_values, x_label, y_label, image_title, png_file_name, timestamp):\n",
    "    \n",
    "    # Date capture timestamp\n",
    "    date_time = datetime.utcfromtimestamp(timestamp).strftime('%m-%d-%Y')\n",
    "    \n",
    "    # Plot the 'x' vs 'y' scatter plot\n",
    "    lattitude_vs_temperature_scatter = plt.scatter(x_values, y_values, marker='o', color='blue')\n",
    "    \n",
    "    # Print chart title, x-axis label, and y-axis label\n",
    "    plt.title(f'{image_title}\\n({date_time})')\n",
    "    plt.xlabel(x_label)\n",
    "    plt.ylabel(y_label)\n",
    "    \n",
    "    # Save the plot and display it\n",
    "    plt.savefig(f\"./output_data/{png_file_name}.png\")\n",
    "    plt.show()\n"
   ]
  },
  {
   "cell_type": "markdown",
   "metadata": {},
   "source": [
    "#### Latitude vs. Temperature Plot"
   ]
  },
  {
   "cell_type": "code",
   "execution_count": 20,
   "metadata": {},
   "outputs": [],
   "source": [
    "# Initialize reusable variables for this data set\n",
    "lattitude = city_weather_data['lat']\n",
    "data_capture_datetime = city_weather_data['unix_dt'][0]"
   ]
  },
  {
   "cell_type": "code",
   "execution_count": 21,
   "metadata": {},
   "outputs": [
    {
     "data": {
      "image/png": "[encoded data removed]",
      "text/plain": [
       "<Figure size 432x288 with 1 Axes>"
      ]
     },
     "metadata": {
      "needs_background": "light"
     },
     "output_type": "display_data"
    }
   ],
   "source": [
    "# Call the 'plotMyData' function to plot Lattitute vs. Max Temperature (F)\n",
    "plotMyData(\n",
    "    lattitude,\n",
    "    city_weather_data['temp_max_f'],\n",
    "    'Lattitude',\n",
    "    'Max. Temperature (F)',\n",
    "    'City Latitude vs. Temperature Plot',\n",
    "    'lattitude_vs_temperature_scatter',\n",
    "    data_capture_datetime\n",
    ")"
   ]
  },
  {
   "cell_type": "markdown",
   "metadata": {},
   "source": [
    "<span style=\"color:red\">*Add a sentence or two explaining what the code is and analyzing.*</span>."
   ]
  },
  {
   "cell_type": "markdown",
   "metadata": {},
   "source": [
    "#### Latitude vs. Humidity Plot"
   ]
  },
  {
   "cell_type": "code",
   "execution_count": null,
   "metadata": {},
   "outputs": [],
   "source": [
    "# temp_max_c\n",
    "# temp_max_f\n",
    "# humidity\n",
    "# cloudiness\n",
    "# windspeed\n",
    "# Call the 'plotMyData' function to plot Lattitute vs. Humidity\n",
    "plotMyData(\n",
    "    lattitude,\n",
    "    city_weather_data['humidity'],\n",
    "    'Lattitude',\n",
    "    'Humidity',\n",
    "    'City Latitude vs. Humidity Plot',\n",
    "    'lattitude_vs_humidity_scatter',\n",
    "    data_capture_datetime\n",
    ")"
   ]
  },
  {
   "cell_type": "code",
   "execution_count": 22,
   "metadata": {
    "scrolled": true
   },
   "outputs": [
    {
     "data": {
      "image/png": "[encoded data removed]",
      "text/plain": [
       "<Figure size 432x288 with 1 Axes>"
      ]
     },
     "metadata": {
      "needs_background": "light"
     },
     "output_type": "display_data"
    }
   ],
   "source": [
    "# Isolate data points to plot\n",
    "lattitude = city_weather_data['lat']\n",
    "humidity = city_weather_data['humidity']\n",
    "\n",
    "# Plot the lattitude vs tempretature (c) scatter plot\n",
    "lattitude_vs_humidity_scatter = plt.scatter(lattitude, humidity, marker=\"o\", color=\"blue\")\n",
    "\n",
    "# Use timestamp for first city returned in dataset\n",
    "date_time = datetime.utcfromtimestamp(data_capture_datetime).strftime('%m-%d-%Y')\n",
    "\n",
    "# Print chart title, x-axis label, and y-axis label\n",
    "plt.title(f\"City Latitude vs. Humidity Plot ({date_time})\")\n",
    "plt.xlabel(\"Latitude\")\n",
    "plt.ylabel(\"Humidity\")\n",
    "\n",
    "# Save the plot and display it\n",
    "plt.savefig(\"./output_data/lattitude_vs_humidity_scatter.png\")\n",
    "plt.show()"
   ]
  },
  {
   "cell_type": "markdown",
   "metadata": {},
   "source": [
    "<span style=\"color:red\">*Add a sentence or two explaining what the code is and analyzing.*</span>."
   ]
  },
  {
   "cell_type": "markdown",
   "metadata": {},
   "source": [
    "#### Latitude vs. Cloudiness Plot"
   ]
  },
  {
   "cell_type": "code",
   "execution_count": null,
   "metadata": {},
   "outputs": [],
   "source": [
    "# temp_max_c\n",
    "# temp_max_f\n",
    "# humidity\n",
    "# cloudiness\n",
    "# windspeed\n",
    "# Call the 'plotMyData' function to plot Lattitute vs. Cloudiness\n",
    "plotMyData(\n",
    "    lattitude,\n",
    "    city_weather_data['Cloudiness'],\n",
    "    'Lattitude',\n",
    "    'Cloudiness',\n",
    "    'City Latitude vs. Cloudiness Plot',\n",
    "    'lattitude_vs_cloudiness_scatter',\n",
    "    data_capture_datetime\n",
    ")"
   ]
  },
  {
   "cell_type": "code",
   "execution_count": 23,
   "metadata": {},
   "outputs": [
    {
     "data": {
      "image/png": "[encoded data removed]",
      "text/plain": [
       "<Figure size 432x288 with 1 Axes>"
      ]
     },
     "metadata": {
      "needs_background": "light"
     },
     "output_type": "display_data"
    }
   ],
   "source": [
    "# Isolate data points to plot\n",
    "lattitude = city_weather_data['lat']\n",
    "cloudiness = city_weather_data['cloudiness']\n",
    "\n",
    "# Plot the lattitude vs tempretature (c) scatter plot\n",
    "lattitude_vs_cloudiness_scatter = plt.scatter(lattitude, cloudiness, marker=\"o\", color=\"blue\")\n",
    "\n",
    "# Use timestamp for first city returned in dataset\n",
    "date_time = datetime.utcfromtimestamp(data_capture_datetime).strftime('%m-%d-%Y')\n",
    "\n",
    "# Print chart title, x-axis label, and y-axis label\n",
    "plt.title(f\"City Latitude vs. Cloudiness Plot ({date_time})\")\n",
    "plt.xlabel(\"Latitude\")\n",
    "plt.ylabel(\"Cloudiness\")\n",
    "\n",
    "# Save the plot and display it\n",
    "plt.savefig(\"./output_data/lattitude_vs_cloudiness_scatter.png\")\n",
    "plt.show()"
   ]
  },
  {
   "cell_type": "markdown",
   "metadata": {},
   "source": [
    "<span style=\"color:red\">*Add a sentence or two explaining what the code is and analyzing.*</span>."
   ]
  },
  {
   "cell_type": "markdown",
   "metadata": {},
   "source": [
    "#### Latitude vs. Wind Speed Plot"
   ]
  },
  {
   "cell_type": "code",
   "execution_count": null,
   "metadata": {},
   "outputs": [],
   "source": [
    "# temp_max_c\n",
    "# temp_max_f\n",
    "# humidity\n",
    "# cloudiness\n",
    "# windspeed\n",
    "# Call the 'plotMyData' function to plot Lattitute vs. Windspeed\n",
    "plotMyData(\n",
    "    lattitude,\n",
    "    city_weather_data['Windspeed'],\n",
    "    'Lattitude',\n",
    "    'Windspeed',\n",
    "    'City Latitude vs. Windspeed Plot',\n",
    "    'lattitude_vs_windspeed_scatter',\n",
    "    data_capture_datetime\n",
    ")"
   ]
  },
  {
   "cell_type": "code",
   "execution_count": 24,
   "metadata": {},
   "outputs": [
    {
     "data": {
      "image/png": "[encoded data removed]",
      "text/plain": [
       "<Figure size 432x288 with 1 Axes>"
      ]
     },
     "metadata": {
      "needs_background": "light"
     },
     "output_type": "display_data"
    }
   ],
   "source": [
    "# Isolate data points to plot\n",
    "lattitude = city_weather_data['lat']\n",
    "windspeed = city_weather_data['windspeed']\n",
    "\n",
    "# Plot the lattitude vs tempretature (c) scatter plot\n",
    "lattitude_vs_windspeed_scatter = plt.scatter(lattitude, windspeed, marker=\"o\", color=\"blue\")\n",
    "\n",
    "# Use timestamp for first city returned in dataset\n",
    "date_time = datetime.utcfromtimestamp(data_capture_datetime).strftime('%m-%d-%Y')\n",
    "\n",
    "# Print chart title, x-axis label, and y-axis label\n",
    "plt.title(f\"City Latitude vs. Windspeed Plot ({date_time})\")\n",
    "plt.xlabel(\"Latitude\")\n",
    "plt.ylabel(\"Windspeed\")\n",
    "\n",
    "# Save the plot and display it\n",
    "plt.savefig(\"./output_data/lattitude_vs_windspeed_scatter.png\")\n",
    "plt.show()"
   ]
  },
  {
   "cell_type": "markdown",
   "metadata": {},
   "source": [
    "<span style=\"color:red\">*Add a sentence or two explaining what the code is and analyzing.*</span>."
   ]
  },
  {
   "cell_type": "markdown",
   "metadata": {},
   "source": [
    "## Linear Regression"
   ]
  },
  {
   "cell_type": "code",
   "execution_count": 25,
   "metadata": {},
   "outputs": [],
   "source": [
    "# 01-Lesson-Plans/05-Matplotlib/3/Activities/09-Stu_Fits_and_Regression\n",
    "\n",
    "# OPTIONAL: Create a function to create Linear Regression plots\n",
    "def linearRegression(x_regression_values, y_regression_values, x_label, y_label, image_title, png_file_name):\n",
    "    # Perform a linear regression on x_regression_value versus y_regression_value\n",
    "    vc_slope, vc_int, vc_r, vc_p, vc_std_err = stats.linregress(x_regression_values, y_regression_values)\n",
    "    \n",
    "    # Create equation of line\n",
    "    vc_fit = vc_slope * x_regression_values + vc_int\n",
    "    \n",
    "    # Plot the linear model on top of scatter plot\n",
    "    plt.title(f\"{image_title} ({date_time})\")\n",
    "    plt.scatter(x_regression_values,y_regression_values)\n",
    "    plt.plot(x_regression_values,vc_fit,\"r-\")\n",
    "    plt.xlabel(x_label)\n",
    "    plt.ylabel(y_label)\n",
    "    plt.savefig(f\"./output_data/{png_file_name}.png\")\n",
    "    plt.show()\n",
    "    \n"
   ]
  },
  {
   "cell_type": "code",
   "execution_count": 26,
   "metadata": {},
   "outputs": [],
   "source": [
    "# Create Northern and Southern Hemisphere DataFrames\n",
    "\n",
    "# Northern Hemisphere (greater than or equal to 0 degrees latitude)\n",
    "north_hemi_weather_data = city_weather_data[city_weather_data['lat'] >= 0]\n",
    "#north_hemi_weather_data\n",
    "\n",
    "# Southern Hemisphere (less than 0 degrees latitude):\n",
    "south_hemi_weather_data = city_weather_data[city_weather_data['lat'] < 0]\n",
    "#south_hemi_weather_data"
   ]
  },
  {
   "cell_type": "markdown",
   "metadata": {},
   "source": [
    "####  Northern Hemisphere - Max Temp vs. Latitude Linear Regression"
   ]
  },
  {
   "cell_type": "code",
   "execution_count": 27,
   "metadata": {},
   "outputs": [
    {
     "data": {
      "image/png": "[encoded data removed]",
      "text/plain": [
       "<Figure size 432x288 with 1 Axes>"
      ]
     },
     "metadata": {
      "needs_background": "light"
     },
     "output_type": "display_data"
    }
   ],
   "source": [
    "north_hemi_max_temp = north_hemi_weather_data['temp_max_f']\n",
    "north_hemi_lattitude = north_hemi_weather_data['lat']\n",
    "\n",
    "linearRegression(\n",
    "    north_hemi_max_temp, # x_regression_value\n",
    "    north_hemi_lattitude, # y_regression_value\n",
    "    'Max Temp (F)', # x_label\n",
    "    'Latitude', # y_label\n",
    "    'Northern Hemisphere \\n Max Temp (F) vs. Lattitude \\n Linear Regression', # Image title\n",
    "    'north_hemisphere_temperature_vs_lattitude' # .png file name\n",
    ")"
   ]
  },
  {
   "cell_type": "markdown",
   "metadata": {},
   "source": [
    "####  Southern Hemisphere - Max Temp vs. Latitude Linear Regression"
   ]
  },
  {
   "cell_type": "code",
   "execution_count": null,
   "metadata": {},
   "outputs": [],
   "source": []
  },
  {
   "cell_type": "markdown",
   "metadata": {},
   "source": [
    "####  Northern Hemisphere - Humidity (%) vs. Latitude Linear Regression"
   ]
  },
  {
   "cell_type": "code",
   "execution_count": null,
   "metadata": {},
   "outputs": [],
   "source": []
  },
  {
   "cell_type": "markdown",
   "metadata": {},
   "source": [
    "####  Southern Hemisphere - Humidity (%) vs. Latitude Linear Regression"
   ]
  },
  {
   "cell_type": "code",
   "execution_count": null,
   "metadata": {},
   "outputs": [],
   "source": []
  },
  {
   "cell_type": "markdown",
   "metadata": {},
   "source": [
    "####  Northern Hemisphere - Cloudiness (%) vs. Latitude Linear Regression"
   ]
  },
  {
   "cell_type": "code",
   "execution_count": null,
   "metadata": {},
   "outputs": [],
   "source": []
  },
  {
   "cell_type": "markdown",
   "metadata": {},
   "source": [
    "####  Southern Hemisphere - Cloudiness (%) vs. Latitude Linear Regression"
   ]
  },
  {
   "cell_type": "code",
   "execution_count": null,
   "metadata": {},
   "outputs": [],
   "source": []
  },
  {
   "cell_type": "markdown",
   "metadata": {},
   "source": [
    "####  Northern Hemisphere - Wind Speed (mph) vs. Latitude Linear Regression"
   ]
  },
  {
   "cell_type": "code",
   "execution_count": null,
   "metadata": {},
   "outputs": [],
   "source": []
  },
  {
   "cell_type": "markdown",
   "metadata": {},
   "source": [
    "####  Southern Hemisphere - Wind Speed (mph) vs. Latitude Linear Regression"
   ]
  },
  {
   "cell_type": "code",
   "execution_count": null,
   "metadata": {},
   "outputs": [],
   "source": []
  },
  {
   "cell_type": "code",
   "execution_count": null,
   "metadata": {},
   "outputs": [],
   "source": []
  }
 ],
 "metadata": {
  "anaconda-cloud": {},
  "kernel_info": {
   "name": "python3"
  },
  "kernelspec": {
   "display_name": "Python 3",
   "language": "python",
   "name": "python3"
  },
  "language_info": {
   "codemirror_mode": {
    "name": "ipython",
    "version": 3
   },
   "file_extension": ".py",
   "mimetype": "text/x-python",
   "name": "python",
   "nbconvert_exporter": "python",
   "pygments_lexer": "ipython3",
   "version": "3.7.4"
  },
  "latex_envs": {
   "LaTeX_envs_menu_present": true,
   "autoclose": false,
   "autocomplete": true,
   "bibliofile": "biblio.bib",
   "cite_by": "apalike",
   "current_citInitial": 1,
   "eqLabelWithNumbers": true,
   "eqNumInitial": 1,
   "hotkeys": {
    "equation": "Ctrl-E",
    "itemize": "Ctrl-I"
   },
   "labels_anchors": false,
   "latex_user_defs": false,
   "report_style_numbering": false,
   "user_envs_cfg": false
  },
  "nteract": {
   "version": "0.12.3"
  }
 },
 "nbformat": 4,
 "nbformat_minor": 2
}
